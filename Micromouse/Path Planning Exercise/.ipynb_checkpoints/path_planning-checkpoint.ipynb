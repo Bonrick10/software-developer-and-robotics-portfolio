{
 "cells": [
  {
   "cell_type": "code",
   "execution_count": 1,
   "id": "cb426c69",
   "metadata": {},
   "outputs": [],
   "source": [
    "import cv2\n",
    "import numpy as np\n",
    "import random\n",
    "import math\n",
    "from matplotlib import pyplot as plt\n",
    "\n",
    "random.seed(42)"
   ]
  },
  {
   "cell_type": "markdown",
   "id": "600ad81b",
   "metadata": {},
   "source": [
    "# SYSTEM PARAMETERS\n",
    "\n",
    "You are free to change these but do not add extra variables here. This entire block will be replaced when marking.\n",
    "\n",
    "You are free modify the parameters but not the variable names."
   ]
  },
  {
   "cell_type": "code",
   "execution_count": 2,
   "id": "c988eda4",
   "metadata": {},
   "outputs": [],
   "source": [
    "# DO NOT ADD OTHER VARIABLE HERE\n",
    "\n",
    "# General settings\n",
    "seed = 42\n",
    "image_file = \"sample_map.png\"\n",
    "\n",
    "# Task 1 - Occupancy map\n",
    "unsafe_kernel_size = 7\n",
    "unsafe_iterations = 3\n",
    "\n",
    "# Task 3 - BFS\n",
    "size_of_node_grid = 10\n",
    "bfs_start_node = 0\n",
    "bfs_end_node = 99\n",
    "\n",
    "# Task 4 - PRM and Dijkstra\n",
    "iterations = 500\n",
    "k_connections = 3\n",
    "max_connection_range = 100\n",
    "start_location = (100,100)\n",
    "goal_location = (450,450)\n",
    "\n",
    "# Task 5 - RRT\n",
    "goal_radius = 20\n",
    "step = 40\n",
    "\n",
    "# DO NOT ADD OTHER VARIABLE HERE"
   ]
  },
  {
   "cell_type": "markdown",
   "id": "e0e8e63c",
   "metadata": {},
   "source": [
    "# Task 1 - OCCUPANCY MAP (4 marks total)"
   ]
  },
  {
   "cell_type": "code",
   "execution_count": 3,
   "id": "845ad3f3-ad42-4678-a7ac-8c280063c02b",
   "metadata": {},
   "outputs": [
    {
     "data": {
      "image/png": "[encoded data removed]",
      "text/plain": [
       "<Figure size 640x480 with 1 Axes>"
      ]
     },
     "metadata": {},
     "output_type": "display_data"
    }
   ],
   "source": [
    "# Task 1.1 (1 mark): Display the occupancy map\n",
    "image = cv2.imread(image_file)\n",
    "\n",
    "# Display resulting image\n",
    "plt.imshow(image)\n",
    "plt.show()\n"
   ]
  },
  {
   "cell_type": "code",
   "execution_count": 9,
   "id": "ac81485e-72a7-4050-9e54-6fa69b0a5a24",
   "metadata": {},
   "outputs": [
    {
     "data": {
      "image/png": "[encoded data removed]",
      "text/plain": [
       "<Figure size 640x480 with 1 Axes>"
      ]
     },
     "metadata": {},
     "output_type": "display_data"
    }
   ],
   "source": [
    "# Task 1.2 (2 Marks): Process occupancy map add and display configuration space\n",
    "kernel = np.ones((unsafe_kernel_size, unsafe_kernel_size), np.uint8) # TODO: Use this kernenl to generate un_safe area\n",
    "\n",
    "gray = cv2.cvtColor(image, cv2.COLOR_BGR2GRAY)\n",
    "erosion = cv2.erode(gray, kernel, unsafe_iterations)\n",
    "\n",
    "mask = gray != erosion\n",
    "red_erosion = image.copy()\n",
    "red_erosion[mask] = [0, 0, 255]\n",
    "\n",
    "# Display resulting image\n",
    "plt.imshow(cv2.cvtColor(red_erosion, cv2.COLOR_BGR2RGB))\n",
    "plt.show()"
   ]
  },
  {
   "cell_type": "markdown",
   "id": "97760a40",
   "metadata": {},
   "source": [
    "# Task 2 - Graph Class (3 marks total)\n",
    "\n",
    "NOTE: This is slightly different to the graph in lab 07. x,y variables have been added to the node object."
   ]
  },
  {
   "cell_type": "code",
   "execution_count": null,
   "id": "08d83a40",
   "metadata": {},
   "outputs": [],
   "source": [
    "# Task 2.1 (3 marks):  Complete the graph class\n",
    "\n",
    "class Node:\n",
    "    def __init__(self, node_id, x, y):\n",
    "        self.id = node_id\n",
    "        self.x = x\n",
    "        self.y = y\n",
    "\n",
    "    def get_point(self):\n",
    "        return (self.x,self.y)\n",
    "\n",
    "    def get_ID(self):\n",
    "        return self.id\n",
    "\n",
    "class Graph:\n",
    "    def __init__(self):\n",
    "        self.nodes = {}\n",
    "        self.edges = {}\n",
    "\n",
    "    def add_node(self, node_id, x, y):\n",
    "        self.nodes[node_id] = Node(node_id, x, y)\n",
    "\n",
    "    def add_edge(self, node_id1, node_id2, weight):\n",
    "        self.edges\n",
    "        pass\n",
    "\n",
    "    def remove_edge(self, node_id1, node_id2):\n",
    "        pass\n",
    "\n",
    "    def get_nodes(self):\n",
    "        pass\n",
    "\n",
    "    def get_edge_weight(self, node_id1, node_id2):\n",
    "        pass\n"
   ]
  },
  {
   "cell_type": "markdown",
   "id": "5124307f",
   "metadata": {},
   "source": [
    "# Task 3 - BFS (8 marks total)"
   ]
  },
  {
   "cell_type": "code",
   "execution_count": null,
   "id": "5b264b56",
   "metadata": {},
   "outputs": [],
   "source": [
    "# This is a useful function which you may choose to impliment and use\n",
    "# It looks through the image to see if the path is clear between one cooridnate to the next\n",
    "# Returns True or False\n",
    "def path_clear(image, x1, y1, x2, y2):\n",
    "\n",
    "    clear = True\n",
    "\n",
    "    return clear"
   ]
  },
  {
   "cell_type": "code",
   "execution_count": null,
   "id": "9e6f2a4b-a9d1-409a-9d26-b8ed1d4add3e",
   "metadata": {},
   "outputs": [],
   "source": [
    "# Task 3.1 (4 marks): Generate a grid of nodes and connect the edges\n",
    "bfs_image = cv2.imread(image_file)\n",
    "bfs_graph = Graph()\n",
    "\n",
    "# Display Resulting Image\n",
    "plt.imshow(bfs_image)\n",
    "plt.show()\n"
   ]
  },
  {
   "cell_type": "code",
   "execution_count": null,
   "id": "fb9d5130",
   "metadata": {},
   "outputs": [],
   "source": [
    "# Task 3.2 (4 marks): Impliment BFS\n",
    "\n",
    "# Returns an array of nodes in order of which nodes is visited next.\n",
    "# ie. [0, 10, 20, 30, 40, 50, 60, 70, 71, 72, 73, 74, 75, 76, 77, 78, 88, 98, 99]\n",
    "def bfs(graph, start_node_id, end_node_id):\n",
    "\n",
    "    path = []\n",
    "\n",
    "    return path"
   ]
  },
  {
   "cell_type": "code",
   "execution_count": null,
   "id": "d6c1c30f",
   "metadata": {},
   "outputs": [],
   "source": [
    "# Task 3.2: Impliment BFS continued\n",
    "\n",
    "# Run bfs and display the output\n",
    "path = bfs(bfs_graph,bfs_start_node,bfs_end_node)\n",
    "\n",
    "\n",
    "# Display resulting image\n",
    "print(f\"Path: {path}\")\n",
    "plt.imshow(bfs_image)\n",
    "plt.show()"
   ]
  },
  {
   "cell_type": "markdown",
   "id": "26b84730",
   "metadata": {},
   "source": [
    "# Task 4 -  PRM and Dijkstra Algorithm (6 marks total)"
   ]
  },
  {
   "cell_type": "code",
   "execution_count": null,
   "id": "082ce0f0",
   "metadata": {},
   "outputs": [],
   "source": [
    "# This is a useful function which you may choose to impliment and use\n",
    "# It finds and returns the n closest nodes which are within the range\n",
    "def find_closest_nodes(image,graph, target_x, target_y, n,range):\n",
    "\n",
    "    distances = []\n",
    "\n",
    "    return distances[:n]\n"
   ]
  },
  {
   "cell_type": "code",
   "execution_count": null,
   "id": "95a0a475-55e3-4851-b4b0-4512a69bbc1b",
   "metadata": {},
   "outputs": [],
   "source": [
    "# Task 4.1 (3 marks): PRM\n",
    "# NOTE: The iteration only increases when a valid node is placed on the map. If the node is invalid, the program should continue without incrementing the iteration count.\n",
    "\n",
    "prm_image = cv2.imread(image_file)\n",
    "prm_graph = Graph()\n",
    "random.seed(seed)\n",
    "\n",
    "i = 0\n",
    "\n",
    "while i < iterations:\n",
    "    x = random.randint(0, prm_image.shape[0]-1)\n",
    "    y = random.randint(0, prm_image.shape[1]-1)\n",
    "\n",
    "\n",
    "    i += 1\n",
    "\n",
    "# Display resulting image\n",
    "plt.imshow(prm_image)\n",
    "plt.show()"
   ]
  },
  {
   "cell_type": "code",
   "execution_count": null,
   "id": "0e03587d",
   "metadata": {},
   "outputs": [],
   "source": [
    "# Task 4.2 (3 marks): Djistraks\n",
    "# Example output - Path: [-1, 143, 43, 1, 14, 44, 67, 7, 9, 4, 12, 364, -2], Cost: 561.9189671797234\n",
    "def dijkstra(graph, start_id, end_id):\n",
    "\n",
    "    path = []\n",
    "    total_cost = 0\n",
    "\n",
    "    return (path, total_cost)"
   ]
  },
  {
   "cell_type": "code",
   "execution_count": null,
   "id": "ef51c4b5",
   "metadata": {},
   "outputs": [],
   "source": [
    "# Task 4.2: Djistraks continued\n",
    "\n",
    "# Add start (node id = -1) and end (node_id = -2 ) nodes\n",
    "prm_graph.add_node(-1,0,0) # start node\n",
    "prm_graph.add_node(-2,0,0) # end node\n",
    "\n",
    "path, cost = dijkstra(prm_graph, -1, -2)\n",
    "\n",
    "\n",
    "\n",
    "# Display resulting image\n",
    "print(f\"Path: {path}, Cost: {cost}\")\n",
    "plt.imshow(prm_image)\n",
    "plt.show()\n"
   ]
  },
  {
   "cell_type": "markdown",
   "id": "cafb152b",
   "metadata": {},
   "source": [
    "# Task 5 - Rapidly-exploring random trees (RRT) (4 marks total)"
   ]
  },
  {
   "cell_type": "code",
   "execution_count": null,
   "id": "97f03cb3",
   "metadata": {},
   "outputs": [],
   "source": [
    "# This is a useful function which you may choose to impliment and use\n",
    "# Given a random point it extends the tree by either the step distance or the cartesian distance\n",
    "def calculate_new_tree_point( x_closest, y_closest, x, y,step):\n",
    "\n",
    "    x = 0\n",
    "    y = 0\n",
    "    distance = 0\n",
    "\n",
    "    return x, y, distance\n",
    "\n",
    "\n",
    "# This is a useful function which you may choose to impliment and use\n",
    "# It finds and returns the closest node to a point on the image\n",
    "def find_closest_node_rrt(graph, target_x, target_y):\n",
    "\n",
    "    distances = []\n",
    "\n",
    "    return distances[0]\n"
   ]
  },
  {
   "cell_type": "code",
   "execution_count": null,
   "id": "c68cdbe9-82b0-4aca-abed-d35738dbd5db",
   "metadata": {},
   "outputs": [],
   "source": [
    "# Task 5.1 (3 marks): RRT/RRT*\n",
    "# Use the same start and goal locations as PRM\n",
    "\n",
    "# NOTE: for this implimentation the next iteration is reach only if a valid node is placed\n",
    "# If, from the source location there is no valid path to the newly placed node. Then the iteration is repeated and a new random x,y location are selected\n",
    "\n",
    "rrt_image = cv2.imread(image_file)\n",
    "rrt_graph = Graph()\n",
    "random.seed(seed)\n",
    "\n",
    "# Generate the start node with a node_ID of -1\n",
    "\n",
    "i = 0\n",
    "while i < iterations:\n",
    "\n",
    "    x = random.randint(0, rrt_image.shape[0]-1)\n",
    "    y = random.randint(0, rrt_image.shape[1]-1)\n",
    "\n",
    "    i += 1\n",
    "\n",
    "\n",
    "# Display resulting image\n",
    "plt.imshow(rrt_image)\n",
    "plt.show()\n"
   ]
  },
  {
   "cell_type": "markdown",
   "id": "9d1884c3",
   "metadata": {},
   "source": [
    "#### Task 5.2 (1 mark) - Provide a pharagraph about informed RRT, discuss the advantages proposed in the paper.\n",
    "\n",
    "Provide your answer in this markdown box:\n",
    "\n",
    "\n"
   ]
  }
 ],
 "metadata": {
  "kernelspec": {
   "display_name": "mtrn3100",
   "language": "python",
   "name": "mtrn3100"
  },
  "language_info": {
   "codemirror_mode": {
    "name": "ipython",
    "version": 3
   },
   "file_extension": ".py",
   "mimetype": "text/x-python",
   "name": "python",
   "nbconvert_exporter": "python",
   "pygments_lexer": "ipython3",
   "version": "3.7.10"
  }
 },
 "nbformat": 4,
 "nbformat_minor": 5
}
